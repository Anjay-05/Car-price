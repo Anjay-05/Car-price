{
 "cells": [
  {
   "cell_type": "code",
   "execution_count": 1,
   "id": "1c7562d4",
   "metadata": {},
   "outputs": [],
   "source": [
    "#importing libraries\n",
    "import pandas as pd\n",
    "import time\n",
    "from selenium import webdriver\n",
    "from selenium.common.exceptions import NoSuchElementException\n",
    "import requests"
   ]
  },
  {
   "cell_type": "code",
   "execution_count": 300,
   "id": "cc93ff0c",
   "metadata": {},
   "outputs": [
    {
     "name": "stderr",
     "output_type": "stream",
     "text": [
      "<ipython-input-300-2fb8778d89f4>:2: DeprecationWarning: executable_path has been deprecated, please pass in a Service object\n",
      "  driver=webdriver.Chrome(r\"C:\\Users\\user\\Downloads\\chromedriver_win32\\chromedriver.exe\")\n"
     ]
    }
   ],
   "source": [
    "#Connecting to web driver\n",
    "driver=webdriver.Chrome(r\"C:\\Users\\user\\Downloads\\chromedriver_win32\\chromedriver.exe\")\n",
    "\n",
    "#Getting the web page\n",
    "url=\"https://www.cars24.com/\"\n",
    "driver.get(url)"
   ]
  },
  {
   "cell_type": "code",
   "execution_count": 301,
   "id": "ae0e8847",
   "metadata": {},
   "outputs": [
    {
     "name": "stderr",
     "output_type": "stream",
     "text": [
      "<ipython-input-301-e29e34b2a7b9>:2: DeprecationWarning: find_element_by_* commands are deprecated. Please use find_element() instead\n",
      "  clk=driver.find_element_by_xpath(\"//div[@class='float-right TBxAN']\")\n",
      "<ipython-input-301-e29e34b2a7b9>:7: DeprecationWarning: find_element_by_* commands are deprecated. Please use find_element() instead\n",
      "  used=driver.find_element_by_xpath('//ul[@class=\"float-right _1yq3e\"]/li[3]')\n"
     ]
    }
   ],
   "source": [
    "time.sleep(3)\n",
    "clk=driver.find_element_by_xpath(\"//div[@class='float-right TBxAN']\")\n",
    "clk.click()\n",
    "\n",
    "#Selecting the used car link\n",
    "time.sleep(3)\n",
    "used=driver.find_element_by_xpath('//ul[@class=\"float-right _1yq3e\"]/li[3]')\n",
    "used.click()"
   ]
  },
  {
   "cell_type": "code",
   "execution_count": 302,
   "id": "203b90ed",
   "metadata": {},
   "outputs": [],
   "source": [
    "Brand=[]\n",
    "Model=[]\n",
    "Variant=[]\n",
    "Year=[]\n",
    "Driven=[]\n",
    "Fuel=[]\n",
    "Location=[]\n",
    "Price=[]"
   ]
  },
  {
   "cell_type": "code",
   "execution_count": 328,
   "id": "849c8dc2",
   "metadata": {},
   "outputs": [
    {
     "name": "stderr",
     "output_type": "stream",
     "text": [
      "<ipython-input-328-5ebdfca5eb6c>:2: DeprecationWarning: find_elements_by_* commands are deprecated. Please use find_elements() instead\n",
      "  brand=driver.find_elements_by_xpath('//div[@class=\"_15rKe\"]/div[1]/h2')\n",
      "<ipython-input-328-5ebdfca5eb6c>:19: DeprecationWarning: find_elements_by_* commands are deprecated. Please use find_elements() instead\n",
      "  variant=driver.find_elements_by_xpath('//div[@class=\"_15rKe\"]/div[1]/p')\n",
      "<ipython-input-328-5ebdfca5eb6c>:28: DeprecationWarning: find_elements_by_* commands are deprecated. Please use find_elements() instead\n",
      "  driven=driver.find_elements_by_xpath('//ul[@class=\"bVR0c\"]/li[1]')\n",
      "<ipython-input-328-5ebdfca5eb6c>:33: DeprecationWarning: find_elements_by_* commands are deprecated. Please use find_elements() instead\n",
      "  fuel=driver.find_elements_by_xpath('//ul[@class=\"bVR0c\"]/li[3]')\n",
      "<ipython-input-328-5ebdfca5eb6c>:38: DeprecationWarning: find_elements_by_* commands are deprecated. Please use find_elements() instead\n",
      "  price=driver.find_elements_by_xpath('//div[@class=\"_7udZZ\"]')\n",
      "<ipython-input-328-5ebdfca5eb6c>:45: DeprecationWarning: find_elements_by_* commands are deprecated. Please use find_elements() instead\n",
      "  url=driver.find_elements_by_xpath('//div[@class=\"col-4\"]/a')\n",
      "<ipython-input-328-5ebdfca5eb6c>:48: DeprecationWarning: find_elements_by_* commands are deprecated. Please use find_elements() instead\n",
      "  loc=driver.find_elements_by_xpath('//p[@class=\"_1OR7d\"]')\n"
     ]
    }
   ],
   "source": [
    "#Scraping Brand name\n",
    "brand=driver.find_elements_by_xpath('//div[@class=\"_15rKe\"]/div[1]/h2')\n",
    "for i in brand:\n",
    "    Brand.append(i.text.split(' ')[1])\n",
    "\n",
    "#Scraping the Model\n",
    "for i in brand:\n",
    "    Model.append(i.text.split(' ')[2:])\n",
    "#Combining the model names\n",
    "for i in range(len(Model)):\n",
    "    if len(Model[i])==2:\n",
    "        Model[i]=Model[i][0]+' '+Model[i][1]\n",
    "    elif len(Model[i])==3:\n",
    "        Model[i]=Model[i][0]+' '+Model[i][1]+' '+Model[i][2]\n",
    "    elif len(Model[i])==1:\n",
    "        Model[i]=Model[i][0]\n",
    "\n",
    "#Scraping the variant\n",
    "variant=driver.find_elements_by_xpath('//div[@class=\"_15rKe\"]/div[1]/p')\n",
    "for i in variant:\n",
    "    Variant.append(i.text.replace('Automatic',' ').replace('Manual',' '))\n",
    "\n",
    "#Scraping Manufacturing year\n",
    "for i in brand:\n",
    "    Year.append(i.text.split(' ')[0])\n",
    "\n",
    "#Scraping the Driven kilometers\n",
    "driven=driver.find_elements_by_xpath('//ul[@class=\"bVR0c\"]/li[1]')\n",
    "for i in driven:\n",
    "    Driven.append(i.text)\n",
    "\n",
    "#Scraping fuel\n",
    "fuel=driver.find_elements_by_xpath('//ul[@class=\"bVR0c\"]/li[3]')\n",
    "for i in fuel:\n",
    "    Fuel.append(i.text)\n",
    "\n",
    "#Scraping the price\n",
    "price=driver.find_elements_by_xpath('//div[@class=\"_7udZZ\"]')\n",
    "for i in price:\n",
    "    Price.append(i.text.replace('₹',''))\n",
    "\n",
    "#Scraping the location\n",
    "URL=[]\n",
    "URL.clear()\n",
    "url=driver.find_elements_by_xpath('//div[@class=\"col-4\"]/a')\n",
    "for i in url:\n",
    "    URL.append(i.get_attribute('href'))\n",
    "loc=driver.find_elements_by_xpath('//p[@class=\"_1OR7d\"]')\n",
    "for i in loc:\n",
    "    for j in range(len(URL)):\n",
    "        Location.append(i.text)\n"
   ]
  },
  {
   "cell_type": "code",
   "execution_count": 329,
   "id": "cb777c60",
   "metadata": {},
   "outputs": [
    {
     "data": {
      "text/plain": [
       "(2735, 2735, 2735, 2735, 2735, 2735, 2735, 2735)"
      ]
     },
     "execution_count": 329,
     "metadata": {},
     "output_type": "execute_result"
    }
   ],
   "source": [
    "len(Brand),len(Model),len(Variant),len(Year),len(Driven),len(Fuel),len(Location),len(Price)"
   ]
  },
  {
   "cell_type": "code",
   "execution_count": 305,
   "id": "14b07092",
   "metadata": {},
   "outputs": [
    {
     "name": "stderr",
     "output_type": "stream",
     "text": [
      "<ipython-input-305-78fe064e6e78>:2: DeprecationWarning: find_element_by_* commands are deprecated. Please use find_element() instead\n",
      "  area=driver.find_element_by_xpath('//p[@class=\"_1OR7d\"]')\n",
      "<ipython-input-305-78fe064e6e78>:5: DeprecationWarning: find_element_by_* commands are deprecated. Please use find_element() instead\n",
      "  sel=driver.find_element_by_xpath('//ul[@class=\"_16Bvy\"]/li[2]')\n"
     ]
    }
   ],
   "source": [
    "#Changing the location to Noida\n",
    "area=driver.find_element_by_xpath('//p[@class=\"_1OR7d\"]')\n",
    "area.click()\n",
    "time.sleep(5)\n",
    "sel=driver.find_element_by_xpath('//ul[@class=\"_16Bvy\"]/li[2]')\n",
    "sel.click()"
   ]
  },
  {
   "cell_type": "code",
   "execution_count": 308,
   "id": "f179521a",
   "metadata": {},
   "outputs": [
    {
     "name": "stderr",
     "output_type": "stream",
     "text": [
      "<ipython-input-308-6127645385fe>:2: DeprecationWarning: find_element_by_* commands are deprecated. Please use find_element() instead\n",
      "  area=driver.find_element_by_xpath('//p[@class=\"_1OR7d\"]')\n",
      "<ipython-input-308-6127645385fe>:5: DeprecationWarning: find_element_by_* commands are deprecated. Please use find_element() instead\n",
      "  sel=driver.find_element_by_xpath('//ul[@class=\"_16Bvy\"]/li[4]')\n"
     ]
    }
   ],
   "source": [
    "#Mumbai\n",
    "area=driver.find_element_by_xpath('//p[@class=\"_1OR7d\"]')\n",
    "area.click()\n",
    "time.sleep(5)\n",
    "sel=driver.find_element_by_xpath('//ul[@class=\"_16Bvy\"]/li[4]')\n",
    "sel.click()"
   ]
  },
  {
   "cell_type": "code",
   "execution_count": 311,
   "id": "e3b2a49e",
   "metadata": {},
   "outputs": [
    {
     "name": "stderr",
     "output_type": "stream",
     "text": [
      "<ipython-input-311-840352c891c7>:2: DeprecationWarning: find_element_by_* commands are deprecated. Please use find_element() instead\n",
      "  area=driver.find_element_by_xpath('//p[@class=\"_1OR7d\"]')\n",
      "<ipython-input-311-840352c891c7>:5: DeprecationWarning: find_element_by_* commands are deprecated. Please use find_element() instead\n",
      "  sel=driver.find_element_by_xpath('//ul[@class=\"_16Bvy\"]/li[5]')\n"
     ]
    }
   ],
   "source": [
    "#Pune\n",
    "area=driver.find_element_by_xpath('//p[@class=\"_1OR7d\"]')\n",
    "area.click()\n",
    "time.sleep(5)\n",
    "sel=driver.find_element_by_xpath('//ul[@class=\"_16Bvy\"]/li[5]')\n",
    "sel.click()"
   ]
  },
  {
   "cell_type": "code",
   "execution_count": 314,
   "id": "fc0f7bdc",
   "metadata": {},
   "outputs": [
    {
     "name": "stderr",
     "output_type": "stream",
     "text": [
      "<ipython-input-314-ad3e8e9b9b40>:2: DeprecationWarning: find_element_by_* commands are deprecated. Please use find_element() instead\n",
      "  area=driver.find_element_by_xpath('//p[@class=\"_1OR7d\"]')\n",
      "<ipython-input-314-ad3e8e9b9b40>:5: DeprecationWarning: find_element_by_* commands are deprecated. Please use find_element() instead\n",
      "  sel=driver.find_element_by_xpath('//ul[@class=\"_16Bvy\"]/li[6]')\n"
     ]
    }
   ],
   "source": [
    "#Banglore\n",
    "area=driver.find_element_by_xpath('//p[@class=\"_1OR7d\"]')\n",
    "area.click()\n",
    "time.sleep(5)\n",
    "sel=driver.find_element_by_xpath('//ul[@class=\"_16Bvy\"]/li[6]')\n",
    "sel.click()"
   ]
  },
  {
   "cell_type": "code",
   "execution_count": 317,
   "id": "8914f9f2",
   "metadata": {},
   "outputs": [
    {
     "name": "stderr",
     "output_type": "stream",
     "text": [
      "<ipython-input-317-92f39cc8ae8a>:2: DeprecationWarning: find_element_by_* commands are deprecated. Please use find_element() instead\n",
      "  area=driver.find_element_by_xpath('//p[@class=\"_1OR7d\"]')\n",
      "<ipython-input-317-92f39cc8ae8a>:5: DeprecationWarning: find_element_by_* commands are deprecated. Please use find_element() instead\n",
      "  sel=driver.find_element_by_xpath('//ul[@class=\"_16Bvy\"]/li[7]')\n"
     ]
    }
   ],
   "source": [
    "#Hyderabad\n",
    "area=driver.find_element_by_xpath('//p[@class=\"_1OR7d\"]')\n",
    "area.click()\n",
    "time.sleep(5)\n",
    "sel=driver.find_element_by_xpath('//ul[@class=\"_16Bvy\"]/li[7]')\n",
    "sel.click()"
   ]
  },
  {
   "cell_type": "code",
   "execution_count": 320,
   "id": "bbf7771b",
   "metadata": {},
   "outputs": [
    {
     "name": "stderr",
     "output_type": "stream",
     "text": [
      "<ipython-input-320-7282fca6d6fc>:2: DeprecationWarning: find_element_by_* commands are deprecated. Please use find_element() instead\n",
      "  area=driver.find_element_by_xpath('//p[@class=\"_1OR7d\"]')\n",
      "<ipython-input-320-7282fca6d6fc>:5: DeprecationWarning: find_element_by_* commands are deprecated. Please use find_element() instead\n",
      "  sel=driver.find_element_by_xpath('//ul[@class=\"_16Bvy\"]/li[8]')\n"
     ]
    }
   ],
   "source": [
    "#Chennai\n",
    "area=driver.find_element_by_xpath('//p[@class=\"_1OR7d\"]')\n",
    "area.click()\n",
    "time.sleep(5)\n",
    "sel=driver.find_element_by_xpath('//ul[@class=\"_16Bvy\"]/li[8]')\n",
    "sel.click()"
   ]
  },
  {
   "cell_type": "code",
   "execution_count": 324,
   "id": "dfb00c29",
   "metadata": {},
   "outputs": [
    {
     "name": "stderr",
     "output_type": "stream",
     "text": [
      "<ipython-input-324-7164f95b9801>:2: DeprecationWarning: find_element_by_* commands are deprecated. Please use find_element() instead\n",
      "  area=driver.find_element_by_xpath('//p[@class=\"_1OR7d\"]')\n",
      "<ipython-input-324-7164f95b9801>:5: DeprecationWarning: find_element_by_* commands are deprecated. Please use find_element() instead\n",
      "  sel=driver.find_element_by_xpath('//ul[@class=\"_16Bvy\"]/li[9]')\n"
     ]
    }
   ],
   "source": [
    "#Kolkata\n",
    "area=driver.find_element_by_xpath('//p[@class=\"_1OR7d\"]')\n",
    "area.click()\n",
    "time.sleep(5)\n",
    "sel=driver.find_element_by_xpath('//ul[@class=\"_16Bvy\"]/li[9]')\n",
    "sel.click()"
   ]
  },
  {
   "cell_type": "code",
   "execution_count": 327,
   "id": "c6e3f837",
   "metadata": {},
   "outputs": [
    {
     "name": "stderr",
     "output_type": "stream",
     "text": [
      "<ipython-input-327-95e4b853045d>:2: DeprecationWarning: find_element_by_* commands are deprecated. Please use find_element() instead\n",
      "  area=driver.find_element_by_xpath('//p[@class=\"_1OR7d\"]')\n",
      "<ipython-input-327-95e4b853045d>:5: DeprecationWarning: find_element_by_* commands are deprecated. Please use find_element() instead\n",
      "  sel=driver.find_element_by_xpath('//ul[@class=\"_16Bvy\"]/li[10]')\n"
     ]
    }
   ],
   "source": [
    "#Ahmedabad\n",
    "area=driver.find_element_by_xpath('//p[@class=\"_1OR7d\"]')\n",
    "area.click()\n",
    "time.sleep(5)\n",
    "sel=driver.find_element_by_xpath('//ul[@class=\"_16Bvy\"]/li[10]')\n",
    "sel.click()"
   ]
  },
  {
   "cell_type": "code",
   "execution_count": 330,
   "id": "2fee137b",
   "metadata": {},
   "outputs": [
    {
     "data": {
      "text/html": [
       "<div>\n",
       "<style scoped>\n",
       "    .dataframe tbody tr th:only-of-type {\n",
       "        vertical-align: middle;\n",
       "    }\n",
       "\n",
       "    .dataframe tbody tr th {\n",
       "        vertical-align: top;\n",
       "    }\n",
       "\n",
       "    .dataframe thead th {\n",
       "        text-align: right;\n",
       "    }\n",
       "</style>\n",
       "<table border=\"1\" class=\"dataframe\">\n",
       "  <thead>\n",
       "    <tr style=\"text-align: right;\">\n",
       "      <th></th>\n",
       "      <th>Brand</th>\n",
       "      <th>Model</th>\n",
       "      <th>Variant</th>\n",
       "      <th>Manufacturing Year</th>\n",
       "      <th>Driven Kilometers</th>\n",
       "      <th>Fuel</th>\n",
       "      <th>Location</th>\n",
       "      <th>Price</th>\n",
       "    </tr>\n",
       "  </thead>\n",
       "  <tbody>\n",
       "    <tr>\n",
       "      <th>0</th>\n",
       "      <td>Maruti</td>\n",
       "      <td>Swift Dzire</td>\n",
       "      <td>VDI BS IV</td>\n",
       "      <td>2013</td>\n",
       "      <td>74,644 km</td>\n",
       "      <td>Diesel</td>\n",
       "      <td>New Delhi</td>\n",
       "      <td>4,01,999</td>\n",
       "    </tr>\n",
       "    <tr>\n",
       "      <th>1</th>\n",
       "      <td>Maruti</td>\n",
       "      <td>Alto K10</td>\n",
       "      <td>LXI</td>\n",
       "      <td>2016</td>\n",
       "      <td>32,669 km</td>\n",
       "      <td>Petrol</td>\n",
       "      <td>New Delhi</td>\n",
       "      <td>3,05,199</td>\n",
       "    </tr>\n",
       "    <tr>\n",
       "      <th>2</th>\n",
       "      <td>Maruti</td>\n",
       "      <td>Alto 800</td>\n",
       "      <td>LXI</td>\n",
       "      <td>2018</td>\n",
       "      <td>29,031 km</td>\n",
       "      <td>Petrol</td>\n",
       "      <td>New Delhi</td>\n",
       "      <td>2,95,599</td>\n",
       "    </tr>\n",
       "    <tr>\n",
       "      <th>3</th>\n",
       "      <td>Maruti</td>\n",
       "      <td>Swift</td>\n",
       "      <td>VDI ABS</td>\n",
       "      <td>2015</td>\n",
       "      <td>89,196 km</td>\n",
       "      <td>Diesel</td>\n",
       "      <td>New Delhi</td>\n",
       "      <td>4,29,099</td>\n",
       "    </tr>\n",
       "    <tr>\n",
       "      <th>4</th>\n",
       "      <td>Maruti</td>\n",
       "      <td>Ritz</td>\n",
       "      <td>VDI</td>\n",
       "      <td>2014</td>\n",
       "      <td>43,382 km</td>\n",
       "      <td>Diesel</td>\n",
       "      <td>New Delhi</td>\n",
       "      <td>3,44,199</td>\n",
       "    </tr>\n",
       "    <tr>\n",
       "      <th>...</th>\n",
       "      <td>...</td>\n",
       "      <td>...</td>\n",
       "      <td>...</td>\n",
       "      <td>...</td>\n",
       "      <td>...</td>\n",
       "      <td>...</td>\n",
       "      <td>...</td>\n",
       "      <td>...</td>\n",
       "    </tr>\n",
       "    <tr>\n",
       "      <th>2730</th>\n",
       "      <td>Hyundai</td>\n",
       "      <td>Elite i20</td>\n",
       "      <td>ASTA 1.2 (O)</td>\n",
       "      <td>2020</td>\n",
       "      <td>10,201 km</td>\n",
       "      <td>Petrol</td>\n",
       "      <td>Ahmedabad</td>\n",
       "      <td>8,00,399</td>\n",
       "    </tr>\n",
       "    <tr>\n",
       "      <th>2731</th>\n",
       "      <td>Maruti</td>\n",
       "      <td>Swift</td>\n",
       "      <td>VXI</td>\n",
       "      <td>2019</td>\n",
       "      <td>6,979 km</td>\n",
       "      <td>Petrol</td>\n",
       "      <td>Ahmedabad</td>\n",
       "      <td>6,02,699</td>\n",
       "    </tr>\n",
       "    <tr>\n",
       "      <th>2732</th>\n",
       "      <td>Maruti</td>\n",
       "      <td>Alto K10</td>\n",
       "      <td>VXI</td>\n",
       "      <td>2018</td>\n",
       "      <td>20,259 km</td>\n",
       "      <td>Petrol</td>\n",
       "      <td>Ahmedabad</td>\n",
       "      <td>3,56,199</td>\n",
       "    </tr>\n",
       "    <tr>\n",
       "      <th>2733</th>\n",
       "      <td>Ford</td>\n",
       "      <td>Ecosport</td>\n",
       "      <td>1.5 TITANIUM PLUS TI VCT AT</td>\n",
       "      <td>2018</td>\n",
       "      <td>30,271 km</td>\n",
       "      <td>Petrol</td>\n",
       "      <td>Ahmedabad</td>\n",
       "      <td>8,57,599</td>\n",
       "    </tr>\n",
       "    <tr>\n",
       "      <th>2734</th>\n",
       "      <td>Renault</td>\n",
       "      <td>Kwid</td>\n",
       "      <td>Neotech 1.0 EasyR</td>\n",
       "      <td>2020</td>\n",
       "      <td>6,739 km</td>\n",
       "      <td>Petrol</td>\n",
       "      <td>Ahmedabad</td>\n",
       "      <td>4,27,599</td>\n",
       "    </tr>\n",
       "  </tbody>\n",
       "</table>\n",
       "<p>2735 rows × 8 columns</p>\n",
       "</div>"
      ],
      "text/plain": [
       "        Brand        Model                        Variant Manufacturing Year  \\\n",
       "0      Maruti  Swift Dzire                    VDI BS IV                 2013   \n",
       "1      Maruti     Alto K10                          LXI                 2016   \n",
       "2      Maruti     Alto 800                          LXI                 2018   \n",
       "3      Maruti        Swift                      VDI ABS                 2015   \n",
       "4      Maruti         Ritz                          VDI                 2014   \n",
       "...       ...          ...                            ...                ...   \n",
       "2730  Hyundai    Elite i20                 ASTA 1.2 (O)                 2020   \n",
       "2731   Maruti        Swift                          VXI                 2019   \n",
       "2732   Maruti     Alto K10                          VXI                 2018   \n",
       "2733     Ford     Ecosport  1.5 TITANIUM PLUS TI VCT AT                 2018   \n",
       "2734  Renault         Kwid              Neotech 1.0 EasyR               2020   \n",
       "\n",
       "     Driven Kilometers    Fuel   Location     Price  \n",
       "0            74,644 km  Diesel  New Delhi  4,01,999  \n",
       "1            32,669 km  Petrol  New Delhi  3,05,199  \n",
       "2            29,031 km  Petrol  New Delhi  2,95,599  \n",
       "3            89,196 km  Diesel  New Delhi  4,29,099  \n",
       "4            43,382 km  Diesel  New Delhi  3,44,199  \n",
       "...                ...     ...        ...       ...  \n",
       "2730         10,201 km  Petrol  Ahmedabad  8,00,399  \n",
       "2731          6,979 km  Petrol  Ahmedabad  6,02,699  \n",
       "2732         20,259 km  Petrol  Ahmedabad  3,56,199  \n",
       "2733         30,271 km  Petrol  Ahmedabad  8,57,599  \n",
       "2734          6,739 km  Petrol  Ahmedabad  4,27,599  \n",
       "\n",
       "[2735 rows x 8 columns]"
      ]
     },
     "execution_count": 330,
     "metadata": {},
     "output_type": "execute_result"
    }
   ],
   "source": [
    "df=pd.DataFrame({'Brand':Brand,'Model':Model,'Variant':Variant,'Manufacturing Year':Year,\n",
    "                 'Driven Kilometers':Driven,'Fuel':Fuel,'Location':Location,'Price':Price})\n",
    "df"
   ]
  },
  {
   "cell_type": "markdown",
   "id": "df8b2283",
   "metadata": {},
   "source": [
    "Scraping from CarDekho"
   ]
  },
  {
   "cell_type": "code",
   "execution_count": 167,
   "id": "b7472cdf",
   "metadata": {},
   "outputs": [
    {
     "name": "stderr",
     "output_type": "stream",
     "text": [
      "<ipython-input-167-4a82e07c9cbf>:2: DeprecationWarning: executable_path has been deprecated, please pass in a Service object\n",
      "  driver=webdriver.Chrome(r\"C:\\Users\\user\\Downloads\\chromedriver_win32\\chromedriver.exe\")\n",
      "<ipython-input-167-4a82e07c9cbf>:8: DeprecationWarning: find_element_by_* commands are deprecated. Please use find_element() instead\n",
      "  clk=driver.find_element_by_xpath('//li[@class=\"gsc_col-sm-4 gsc_col-md-2 gsc_col-xs-12\"]/button')\n"
     ]
    }
   ],
   "source": [
    "#Connecting to web driver\n",
    "driver=webdriver.Chrome(r\"C:\\Users\\user\\Downloads\\chromedriver_win32\\chromedriver.exe\")\n",
    "\n",
    "#Getting the web page\n",
    "url=\"https://www.cardekho.com/usedCars\"\n",
    "driver.get(url)\n",
    "#Searching button clicking\n",
    "clk=driver.find_element_by_xpath('//li[@class=\"gsc_col-sm-4 gsc_col-md-2 gsc_col-xs-12\"]/button')\n",
    "clk.click()"
   ]
  },
  {
   "cell_type": "code",
   "execution_count": 168,
   "id": "04c5fa4a",
   "metadata": {},
   "outputs": [],
   "source": [
    "Bran=[]\n",
    "Mode=[]\n",
    "Varian=[]\n",
    "Yea=[]\n",
    "Drive=[]\n",
    "Fue=[]\n",
    "No_owne=[]\n",
    "Locatio=[]\n",
    "Pric=[]"
   ]
  },
  {
   "cell_type": "code",
   "execution_count": 170,
   "id": "d8bae007",
   "metadata": {},
   "outputs": [
    {
     "name": "stderr",
     "output_type": "stream",
     "text": [
      "<ipython-input-170-39e6a378a9ae>:2: DeprecationWarning: find_element_by_* commands are deprecated. Please use find_element() instead\n",
      "  sel=driver.find_element_by_xpath('//div[@class=\"inputfield\"]/input')\n",
      "<ipython-input-170-39e6a378a9ae>:6: DeprecationWarning: find_element_by_* commands are deprecated. Please use find_element() instead\n",
      "  city=driver.find_element_by_xpath('//ul[@class=\"listing gsc_col-md-12 gsc_col-lg-12\"]/li[1]')\n"
     ]
    }
   ],
   "source": [
    "#Selecting location Ahmedabad\n",
    "sel=driver.find_element_by_xpath('//div[@class=\"inputfield\"]/input')\n",
    "sel.click()\n",
    "\n",
    "time.sleep(5)\n",
    "city=driver.find_element_by_xpath('//ul[@class=\"listing gsc_col-md-12 gsc_col-lg-12\"]/li[1]')\n",
    "city.click()"
   ]
  },
  {
   "cell_type": "code",
   "execution_count": 204,
   "id": "42354eba",
   "metadata": {},
   "outputs": [
    {
     "name": "stderr",
     "output_type": "stream",
     "text": [
      "<ipython-input-204-d7e96de0fe07>:3: DeprecationWarning: find_elements_by_* commands are deprecated. Please use find_elements() instead\n",
      "  brands=driver.find_elements_by_xpath('//div[@class=\"gsc_col-xs-7  carsName\"]/a')\n",
      "<ipython-input-204-d7e96de0fe07>:36: DeprecationWarning: find_elements_by_* commands are deprecated. Please use find_elements() instead\n",
      "  variants=driver.find_elements_by_xpath('//div[@class=\"gsc_col-xs-7  carsName\"]/div[1]')\n",
      "<ipython-input-204-d7e96de0fe07>:44: DeprecationWarning: find_elements_by_* commands are deprecated. Please use find_elements() instead\n",
      "  drivens=driver.find_elements_by_xpath('//div[@class=\"gsc_col-xs-7  carsName\"]/div[2]/span[1]')\n",
      "<ipython-input-204-d7e96de0fe07>:52: DeprecationWarning: find_elements_by_* commands are deprecated. Please use find_elements() instead\n",
      "  fuels=driver.find_elements_by_xpath('//div[@class=\"gsc_col-xs-7  carsName\"]/div[2]/span[2]')\n",
      "<ipython-input-204-d7e96de0fe07>:60: DeprecationWarning: find_elements_by_* commands are deprecated. Please use find_elements() instead\n",
      "  prices=driver.find_elements_by_xpath('//div[@class=\" gsc_row minheight\"]/div[2]/span')\n",
      "<ipython-input-204-d7e96de0fe07>:68: DeprecationWarning: find_elements_by_* commands are deprecated. Please use find_elements() instead\n",
      "  urls=driver.find_elements_by_xpath('//div[@class=\"gsc_col-xs-7  carsName\"]/a')\n",
      "<ipython-input-204-d7e96de0fe07>:74: DeprecationWarning: find_elements_by_* commands are deprecated. Please use find_elements() instead\n",
      "  locs=driver.find_elements_by_xpath('//div[@class=\"gsc_col-xs-12 mainheading\"]/h2')\n"
     ]
    }
   ],
   "source": [
    "\n",
    "#Scraping Brand\n",
    "try:\n",
    "    brands=driver.find_elements_by_xpath('//div[@class=\"gsc_col-xs-7  carsName\"]/a')\n",
    "    for i in brands:\n",
    "        Bran.append(i.text.split(' ')[1])\n",
    "except NoSuchElementException:\n",
    "    Bran.append('-')\n",
    "\n",
    "#Scraping Year of manufacturing\n",
    "try:\n",
    "    for i in brands:\n",
    "        Yea.append(i.text.split(' ')[0])\n",
    "except NoSuchElementException:\n",
    "    Yea.append('-')\n",
    "\n",
    "#Scraping Model\n",
    "try:\n",
    "    for i in brands:\n",
    "        Mode.append(i.text.split(' ')[2:])\n",
    "\n",
    "    #Combining names\n",
    "    for i in range(len(Mode)):\n",
    "        if len(Mode[i])==1:\n",
    "            Mode[i]=Mode[i][0]\n",
    "        elif len(Mode[i])==2:\n",
    "            Mode[i]=(Mode[i][0]+' '+Mode[i][1]).strip()\n",
    "        elif len(Mode[i])==3:\n",
    "            Mode[i]=(Mode[i][0]+' '+Mode[i][1]+' '+Mode[i][2]).strip()\n",
    "        elif len(Mode[i])==4:\n",
    "            Mode[i]=(Mode[i][0]+' '+Mode[i][1]+' '+Mode[i][2]+' '+Mode[i][3]).strip()\n",
    "except NoSuchElementException:\n",
    "    Mode.append('-')\n",
    "\n",
    "#Scraping variant\n",
    "try:\n",
    "    variants=driver.find_elements_by_xpath('//div[@class=\"gsc_col-xs-7  carsName\"]/div[1]')\n",
    "    for i in variants:\n",
    "        Varian.append(i.text)\n",
    "except NoSuchElementException:\n",
    "    Varian.append('-')\n",
    "\n",
    "#Scraping the driven kilometers\n",
    "try:\n",
    "    drivens=driver.find_elements_by_xpath('//div[@class=\"gsc_col-xs-7  carsName\"]/div[2]/span[1]')\n",
    "    for i in drivens:\n",
    "        Drive.append(i.text)\n",
    "except NoSuchElementException:\n",
    "    Drive.append('-')\n",
    "\n",
    "#Scraping the Fuel\n",
    "try:\n",
    "    fuels=driver.find_elements_by_xpath('//div[@class=\"gsc_col-xs-7  carsName\"]/div[2]/span[2]')\n",
    "    for i in fuels:\n",
    "        Fue.append(i.text)\n",
    "except NoSuchElementException:\n",
    "    Fue.append('-')\n",
    "\n",
    "#Scraping the price\n",
    "try:\n",
    "    prices=driver.find_elements_by_xpath('//div[@class=\" gsc_row minheight\"]/div[2]/span')\n",
    "    for i in prices:\n",
    "        Pric.append(i.text)\n",
    "except NoSuchElementException:\n",
    "    Pric.append('-')\n",
    "\n",
    "#Creating list for storing the links\n",
    "URLS=[]\n",
    "urls=driver.find_elements_by_xpath('//div[@class=\"gsc_col-xs-7  carsName\"]/a')\n",
    "for i in urls:\n",
    "    URLS.append(i.get_attribute('href'))\n",
    "    \n",
    "#Scraping Location\n",
    "try:\n",
    "    locs=driver.find_elements_by_xpath('//div[@class=\"gsc_col-xs-12 mainheading\"]/h2')\n",
    "    for i in locs:\n",
    "        for j in range(len(URLS)):\n",
    "            Locatio.append(i.text.split(' ')[-1])\n",
    "except NoSuchElementException:\n",
    "    Locatio.append('-')\n"
   ]
  },
  {
   "cell_type": "code",
   "execution_count": 205,
   "id": "ace7da32",
   "metadata": {},
   "outputs": [
    {
     "data": {
      "text/plain": [
       "(2840, 2840, 2840, 2840, 2840, 2840, 2840, 2840)"
      ]
     },
     "execution_count": 205,
     "metadata": {},
     "output_type": "execute_result"
    }
   ],
   "source": [
    "len(Bran),len(Mode),len(Varian),len(Yea),len(Drive),len(Fue),len(Locatio),len(Pric)"
   ]
  },
  {
   "cell_type": "code",
   "execution_count": 173,
   "id": "1b44781c",
   "metadata": {},
   "outputs": [
    {
     "name": "stderr",
     "output_type": "stream",
     "text": [
      "<ipython-input-173-537afa5fc8a2>:2: DeprecationWarning: find_element_by_* commands are deprecated. Please use find_element() instead\n",
      "  sel=driver.find_element_by_xpath('//div[@class=\"inputfield\"]/input')\n",
      "<ipython-input-173-537afa5fc8a2>:6: DeprecationWarning: find_element_by_* commands are deprecated. Please use find_element() instead\n",
      "  city=driver.find_element_by_xpath('//ul[@class=\"listing gsc_col-md-12 gsc_col-lg-12\"]/li[2]')\n"
     ]
    }
   ],
   "source": [
    "#Banglore\n",
    "sel=driver.find_element_by_xpath('//div[@class=\"inputfield\"]/input')\n",
    "sel.click()\n",
    "\n",
    "time.sleep(5)\n",
    "city=driver.find_element_by_xpath('//ul[@class=\"listing gsc_col-md-12 gsc_col-lg-12\"]/li[2]')\n",
    "city.click()"
   ]
  },
  {
   "cell_type": "code",
   "execution_count": 176,
   "id": "946eea97",
   "metadata": {},
   "outputs": [
    {
     "name": "stderr",
     "output_type": "stream",
     "text": [
      "<ipython-input-176-4053eff96f73>:2: DeprecationWarning: find_element_by_* commands are deprecated. Please use find_element() instead\n",
      "  sel=driver.find_element_by_xpath('//div[@class=\"inputfield\"]/input')\n",
      "<ipython-input-176-4053eff96f73>:6: DeprecationWarning: find_element_by_* commands are deprecated. Please use find_element() instead\n",
      "  city=driver.find_element_by_xpath('//ul[@class=\"listing gsc_col-md-12 gsc_col-lg-12\"]/li[3]')\n"
     ]
    }
   ],
   "source": [
    "#Chennai\n",
    "sel=driver.find_element_by_xpath('//div[@class=\"inputfield\"]/input')\n",
    "sel.click()\n",
    "\n",
    "time.sleep(5)\n",
    "city=driver.find_element_by_xpath('//ul[@class=\"listing gsc_col-md-12 gsc_col-lg-12\"]/li[3]')\n",
    "city.click()"
   ]
  },
  {
   "cell_type": "code",
   "execution_count": 180,
   "id": "9dedfe9b",
   "metadata": {},
   "outputs": [
    {
     "name": "stderr",
     "output_type": "stream",
     "text": [
      "<ipython-input-180-027605bca3f4>:2: DeprecationWarning: find_element_by_* commands are deprecated. Please use find_element() instead\n",
      "  sel=driver.find_element_by_xpath('//div[@class=\"inputfield\"]/input')\n",
      "<ipython-input-180-027605bca3f4>:6: DeprecationWarning: find_element_by_* commands are deprecated. Please use find_element() instead\n",
      "  city=driver.find_element_by_xpath('//ul[@class=\"listing gsc_col-md-12 gsc_col-lg-12\"]/li[5]')\n"
     ]
    }
   ],
   "source": [
    "#Hyderabad\n",
    "sel=driver.find_element_by_xpath('//div[@class=\"inputfield\"]/input')\n",
    "sel.click()\n",
    "\n",
    "time.sleep(5)\n",
    "city=driver.find_element_by_xpath('//ul[@class=\"listing gsc_col-md-12 gsc_col-lg-12\"]/li[5]')\n",
    "city.click()"
   ]
  },
  {
   "cell_type": "code",
   "execution_count": 184,
   "id": "3bfe7c13",
   "metadata": {},
   "outputs": [
    {
     "name": "stderr",
     "output_type": "stream",
     "text": [
      "<ipython-input-184-d550bced969f>:2: DeprecationWarning: find_element_by_* commands are deprecated. Please use find_element() instead\n",
      "  sel=driver.find_element_by_xpath('//div[@class=\"inputfield\"]/input')\n",
      "<ipython-input-184-d550bced969f>:6: DeprecationWarning: find_element_by_* commands are deprecated. Please use find_element() instead\n",
      "  city=driver.find_element_by_xpath('//ul[@class=\"listing gsc_col-md-12 gsc_col-lg-12\"]/li[6]')\n"
     ]
    }
   ],
   "source": [
    "#Jaipur\n",
    "sel=driver.find_element_by_xpath('//div[@class=\"inputfield\"]/input')\n",
    "sel.click()\n",
    "\n",
    "time.sleep(5)\n",
    "city=driver.find_element_by_xpath('//ul[@class=\"listing gsc_col-md-12 gsc_col-lg-12\"]/li[6]')\n",
    "city.click()"
   ]
  },
  {
   "cell_type": "code",
   "execution_count": 188,
   "id": "d1a0271f",
   "metadata": {},
   "outputs": [
    {
     "name": "stderr",
     "output_type": "stream",
     "text": [
      "<ipython-input-188-87df62ceca0e>:2: DeprecationWarning: find_element_by_* commands are deprecated. Please use find_element() instead\n",
      "  sel=driver.find_element_by_xpath('//div[@class=\"inputfield\"]/input')\n",
      "<ipython-input-188-87df62ceca0e>:6: DeprecationWarning: find_element_by_* commands are deprecated. Please use find_element() instead\n",
      "  city=driver.find_element_by_xpath('//ul[@class=\"listing gsc_col-md-12 gsc_col-lg-12\"]/li[7]')\n"
     ]
    }
   ],
   "source": [
    "#Kolkata\n",
    "sel=driver.find_element_by_xpath('//div[@class=\"inputfield\"]/input')\n",
    "sel.click()\n",
    "\n",
    "time.sleep(5)\n",
    "city=driver.find_element_by_xpath('//ul[@class=\"listing gsc_col-md-12 gsc_col-lg-12\"]/li[7]')\n",
    "city.click()"
   ]
  },
  {
   "cell_type": "code",
   "execution_count": 192,
   "id": "32de5f84",
   "metadata": {},
   "outputs": [
    {
     "name": "stderr",
     "output_type": "stream",
     "text": [
      "<ipython-input-192-0c4e91567476>:2: DeprecationWarning: find_element_by_* commands are deprecated. Please use find_element() instead\n",
      "  sel=driver.find_element_by_xpath('//div[@class=\"inputfield\"]/input')\n",
      "<ipython-input-192-0c4e91567476>:6: DeprecationWarning: find_element_by_* commands are deprecated. Please use find_element() instead\n",
      "  city=driver.find_element_by_xpath('//ul[@class=\"listing gsc_col-md-12 gsc_col-lg-12\"]/li[8]')\n"
     ]
    }
   ],
   "source": [
    "#Mumbai\n",
    "sel=driver.find_element_by_xpath('//div[@class=\"inputfield\"]/input')\n",
    "sel.click()\n",
    "\n",
    "time.sleep(5)\n",
    "city=driver.find_element_by_xpath('//ul[@class=\"listing gsc_col-md-12 gsc_col-lg-12\"]/li[8]')\n",
    "city.click()"
   ]
  },
  {
   "cell_type": "code",
   "execution_count": 196,
   "id": "8f8b309b",
   "metadata": {},
   "outputs": [
    {
     "name": "stderr",
     "output_type": "stream",
     "text": [
      "<ipython-input-196-2d77610d3d44>:2: DeprecationWarning: find_element_by_* commands are deprecated. Please use find_element() instead\n",
      "  sel=driver.find_element_by_xpath('//div[@class=\"inputfield\"]/input')\n",
      "<ipython-input-196-2d77610d3d44>:6: DeprecationWarning: find_element_by_* commands are deprecated. Please use find_element() instead\n",
      "  city=driver.find_element_by_xpath('//ul[@class=\"listing gsc_col-md-12 gsc_col-lg-12\"]/li[9]')\n"
     ]
    }
   ],
   "source": [
    "#New Delhi\n",
    "sel=driver.find_element_by_xpath('//div[@class=\"inputfield\"]/input')\n",
    "sel.click()\n",
    "\n",
    "time.sleep(5)\n",
    "city=driver.find_element_by_xpath('//ul[@class=\"listing gsc_col-md-12 gsc_col-lg-12\"]/li[9]')\n",
    "city.click()"
   ]
  },
  {
   "cell_type": "code",
   "execution_count": 199,
   "id": "26809471",
   "metadata": {},
   "outputs": [
    {
     "name": "stderr",
     "output_type": "stream",
     "text": [
      "<ipython-input-199-995b88ac7e6c>:2: DeprecationWarning: find_element_by_* commands are deprecated. Please use find_element() instead\n",
      "  sel=driver.find_element_by_xpath('//div[@class=\"inputfield\"]/input')\n",
      "<ipython-input-199-995b88ac7e6c>:6: DeprecationWarning: find_element_by_* commands are deprecated. Please use find_element() instead\n",
      "  city=driver.find_element_by_xpath('//ul[@class=\"listing gsc_col-md-12 gsc_col-lg-12\"]/li[10]')\n"
     ]
    }
   ],
   "source": [
    "#Noida\n",
    "sel=driver.find_element_by_xpath('//div[@class=\"inputfield\"]/input')\n",
    "sel.click()\n",
    "\n",
    "time.sleep(5)\n",
    "city=driver.find_element_by_xpath('//ul[@class=\"listing gsc_col-md-12 gsc_col-lg-12\"]/li[10]')\n",
    "city.click()"
   ]
  },
  {
   "cell_type": "code",
   "execution_count": 203,
   "id": "7a69311a",
   "metadata": {},
   "outputs": [
    {
     "name": "stderr",
     "output_type": "stream",
     "text": [
      "<ipython-input-203-1734d40f1df2>:2: DeprecationWarning: find_element_by_* commands are deprecated. Please use find_element() instead\n",
      "  sel=driver.find_element_by_xpath('//div[@class=\"inputfield\"]/input')\n",
      "<ipython-input-203-1734d40f1df2>:6: DeprecationWarning: find_element_by_* commands are deprecated. Please use find_element() instead\n",
      "  city=driver.find_element_by_xpath('//ul[@class=\"listing gsc_col-md-12 gsc_col-lg-12\"]/li[11]')\n"
     ]
    }
   ],
   "source": [
    "#Pune\n",
    "sel=driver.find_element_by_xpath('//div[@class=\"inputfield\"]/input')\n",
    "sel.click()\n",
    "\n",
    "time.sleep(5)\n",
    "city=driver.find_element_by_xpath('//ul[@class=\"listing gsc_col-md-12 gsc_col-lg-12\"]/li[11]')\n",
    "city.click()"
   ]
  },
  {
   "cell_type": "code",
   "execution_count": 250,
   "id": "ab96f7da",
   "metadata": {},
   "outputs": [
    {
     "data": {
      "text/html": [
       "<div>\n",
       "<style scoped>\n",
       "    .dataframe tbody tr th:only-of-type {\n",
       "        vertical-align: middle;\n",
       "    }\n",
       "\n",
       "    .dataframe tbody tr th {\n",
       "        vertical-align: top;\n",
       "    }\n",
       "\n",
       "    .dataframe thead th {\n",
       "        text-align: right;\n",
       "    }\n",
       "</style>\n",
       "<table border=\"1\" class=\"dataframe\">\n",
       "  <thead>\n",
       "    <tr style=\"text-align: right;\">\n",
       "      <th></th>\n",
       "      <th>Brand</th>\n",
       "      <th>Model</th>\n",
       "      <th>Variant</th>\n",
       "      <th>Manufacturing Year</th>\n",
       "      <th>Driven Kilometers</th>\n",
       "      <th>Fuel</th>\n",
       "      <th>Location</th>\n",
       "      <th>Price</th>\n",
       "    </tr>\n",
       "  </thead>\n",
       "  <tbody>\n",
       "    <tr>\n",
       "      <th>0</th>\n",
       "      <td>Maruti</td>\n",
       "      <td>Swift Dzire</td>\n",
       "      <td>VDI</td>\n",
       "      <td>2012</td>\n",
       "      <td>80,134 kms</td>\n",
       "      <td>Diesel</td>\n",
       "      <td>Ahmedabad</td>\n",
       "      <td>3,13,000</td>\n",
       "    </tr>\n",
       "    <tr>\n",
       "      <th>1</th>\n",
       "      <td>Maruti</td>\n",
       "      <td>S-Presso</td>\n",
       "      <td>VXI</td>\n",
       "      <td>2019</td>\n",
       "      <td>24,268 kms</td>\n",
       "      <td>Petrol</td>\n",
       "      <td>Ahmedabad</td>\n",
       "      <td>3,69,500</td>\n",
       "    </tr>\n",
       "    <tr>\n",
       "      <th>2</th>\n",
       "      <td>Maruti</td>\n",
       "      <td>Swift Dzire</td>\n",
       "      <td>VXI 1.2</td>\n",
       "      <td>2019</td>\n",
       "      <td>11,935 kms</td>\n",
       "      <td>Petrol</td>\n",
       "      <td>Ahmedabad</td>\n",
       "      <td>6,80,000</td>\n",
       "    </tr>\n",
       "    <tr>\n",
       "      <th>3</th>\n",
       "      <td>Maruti</td>\n",
       "      <td>E e c o</td>\n",
       "      <td>5 Seater AC</td>\n",
       "      <td>2016</td>\n",
       "      <td>45,384 kms</td>\n",
       "      <td>Petrol</td>\n",
       "      <td>Ahmedabad</td>\n",
       "      <td>2,99,500</td>\n",
       "    </tr>\n",
       "    <tr>\n",
       "      <th>4</th>\n",
       "      <td>Maruti</td>\n",
       "      <td>Wagon R</td>\n",
       "      <td>AMT VXI</td>\n",
       "      <td>2017</td>\n",
       "      <td>41,220 kms</td>\n",
       "      <td>Petrol</td>\n",
       "      <td>Ahmedabad</td>\n",
       "      <td>4,25,000</td>\n",
       "    </tr>\n",
       "    <tr>\n",
       "      <th>...</th>\n",
       "      <td>...</td>\n",
       "      <td>...</td>\n",
       "      <td>...</td>\n",
       "      <td>...</td>\n",
       "      <td>...</td>\n",
       "      <td>...</td>\n",
       "      <td>...</td>\n",
       "      <td>...</td>\n",
       "    </tr>\n",
       "    <tr>\n",
       "      <th>2835</th>\n",
       "      <td>Maruti</td>\n",
       "      <td>Swift Dzire</td>\n",
       "      <td>ZXi</td>\n",
       "      <td>2009</td>\n",
       "      <td>72,000 kms</td>\n",
       "      <td>Petrol</td>\n",
       "      <td>Pune</td>\n",
       "      <td>2,90,000</td>\n",
       "    </tr>\n",
       "    <tr>\n",
       "      <th>2836</th>\n",
       "      <td>Honda</td>\n",
       "      <td>City</td>\n",
       "      <td>CVT</td>\n",
       "      <td>2008</td>\n",
       "      <td>68,000 kms</td>\n",
       "      <td>Petrol</td>\n",
       "      <td>Pune</td>\n",
       "      <td>2,75,000</td>\n",
       "    </tr>\n",
       "    <tr>\n",
       "      <th>2837</th>\n",
       "      <td>Maruti</td>\n",
       "      <td>Alto K10</td>\n",
       "      <td>VXI</td>\n",
       "      <td>2014</td>\n",
       "      <td>1,28,000 kms</td>\n",
       "      <td>Petrol</td>\n",
       "      <td>Pune</td>\n",
       "      <td>2,85,000</td>\n",
       "    </tr>\n",
       "    <tr>\n",
       "      <th>2838</th>\n",
       "      <td>Mahindra</td>\n",
       "      <td>Xylo</td>\n",
       "      <td>E4</td>\n",
       "      <td>2010</td>\n",
       "      <td>80,000 kms</td>\n",
       "      <td>Diesel</td>\n",
       "      <td>Pune</td>\n",
       "      <td>3,00,000</td>\n",
       "    </tr>\n",
       "    <tr>\n",
       "      <th>2839</th>\n",
       "      <td>Datsun</td>\n",
       "      <td>RediGO</td>\n",
       "      <td>S</td>\n",
       "      <td>2017</td>\n",
       "      <td>50,000 kms</td>\n",
       "      <td>Petrol</td>\n",
       "      <td>Pune</td>\n",
       "      <td>2,00,000</td>\n",
       "    </tr>\n",
       "  </tbody>\n",
       "</table>\n",
       "<p>2840 rows × 8 columns</p>\n",
       "</div>"
      ],
      "text/plain": [
       "         Brand        Model      Variant Manufacturing Year Driven Kilometers  \\\n",
       "0       Maruti  Swift Dzire          VDI               2012        80,134 kms   \n",
       "1       Maruti     S-Presso          VXI               2019        24,268 kms   \n",
       "2       Maruti  Swift Dzire      VXI 1.2               2019        11,935 kms   \n",
       "3       Maruti      E e c o  5 Seater AC               2016        45,384 kms   \n",
       "4       Maruti      Wagon R      AMT VXI               2017        41,220 kms   \n",
       "...        ...          ...          ...                ...               ...   \n",
       "2835    Maruti  Swift Dzire          ZXi               2009        72,000 kms   \n",
       "2836     Honda         City          CVT               2008        68,000 kms   \n",
       "2837    Maruti     Alto K10          VXI               2014      1,28,000 kms   \n",
       "2838  Mahindra         Xylo           E4               2010        80,000 kms   \n",
       "2839    Datsun       RediGO            S               2017        50,000 kms   \n",
       "\n",
       "        Fuel   Location     Price  \n",
       "0     Diesel  Ahmedabad  3,13,000  \n",
       "1     Petrol  Ahmedabad  3,69,500  \n",
       "2     Petrol  Ahmedabad  6,80,000  \n",
       "3     Petrol  Ahmedabad  2,99,500  \n",
       "4     Petrol  Ahmedabad  4,25,000  \n",
       "...      ...        ...       ...  \n",
       "2835  Petrol       Pune  2,90,000  \n",
       "2836  Petrol       Pune  2,75,000  \n",
       "2837  Petrol       Pune  2,85,000  \n",
       "2838  Diesel       Pune  3,00,000  \n",
       "2839  Petrol       Pune  2,00,000  \n",
       "\n",
       "[2840 rows x 8 columns]"
      ]
     },
     "execution_count": 250,
     "metadata": {},
     "output_type": "execute_result"
    }
   ],
   "source": [
    "df=pd.DataFrame({'Brand':Bran,'Model':Mode,'Variant':Varian,'Manufacturing Year':Yea,\n",
    "                 'Driven Kilometers':Drive,'Fuel':Fue,'Location':Locatio,'Price':Pric})\n",
    "df"
   ]
  },
  {
   "cell_type": "code",
   "execution_count": 331,
   "id": "e5bbebf8",
   "metadata": {},
   "outputs": [],
   "source": [
    "#Combining both dataframe\n",
    "Brand.extend(Bran),\n",
    "Model.extend(Mode),\n",
    "Variant.extend(Varian),\n",
    "Year.extend(Yea),\n",
    "Driven.extend(Drive),\n",
    "Fuel.extend(Fue),\n",
    "Location.extend(Locatio),\n",
    "Price.extend(Pric)"
   ]
  },
  {
   "cell_type": "code",
   "execution_count": 332,
   "id": "e579afae",
   "metadata": {},
   "outputs": [
    {
     "data": {
      "text/plain": [
       "(5575, 5575, 5575, 5575, 5575, 5575, 5575, 5575)"
      ]
     },
     "execution_count": 332,
     "metadata": {},
     "output_type": "execute_result"
    }
   ],
   "source": [
    "len(Brand),len(Model),len(Variant),len(Year),len(Driven),len(Fuel),len(Location),len(Price)"
   ]
  },
  {
   "cell_type": "code",
   "execution_count": 333,
   "id": "4563cf41",
   "metadata": {},
   "outputs": [
    {
     "data": {
      "text/html": [
       "<div>\n",
       "<style scoped>\n",
       "    .dataframe tbody tr th:only-of-type {\n",
       "        vertical-align: middle;\n",
       "    }\n",
       "\n",
       "    .dataframe tbody tr th {\n",
       "        vertical-align: top;\n",
       "    }\n",
       "\n",
       "    .dataframe thead th {\n",
       "        text-align: right;\n",
       "    }\n",
       "</style>\n",
       "<table border=\"1\" class=\"dataframe\">\n",
       "  <thead>\n",
       "    <tr style=\"text-align: right;\">\n",
       "      <th></th>\n",
       "      <th>Brand</th>\n",
       "      <th>Model</th>\n",
       "      <th>Variant</th>\n",
       "      <th>Manufacturing Year</th>\n",
       "      <th>Driven Kilometers</th>\n",
       "      <th>Fuel</th>\n",
       "      <th>Location</th>\n",
       "      <th>Price</th>\n",
       "    </tr>\n",
       "  </thead>\n",
       "  <tbody>\n",
       "    <tr>\n",
       "      <th>0</th>\n",
       "      <td>Maruti</td>\n",
       "      <td>Swift Dzire</td>\n",
       "      <td>VDI BS IV</td>\n",
       "      <td>2013</td>\n",
       "      <td>74,644 km</td>\n",
       "      <td>Diesel</td>\n",
       "      <td>New Delhi</td>\n",
       "      <td>4,01,999</td>\n",
       "    </tr>\n",
       "    <tr>\n",
       "      <th>1</th>\n",
       "      <td>Maruti</td>\n",
       "      <td>Alto K10</td>\n",
       "      <td>LXI</td>\n",
       "      <td>2016</td>\n",
       "      <td>32,669 km</td>\n",
       "      <td>Petrol</td>\n",
       "      <td>New Delhi</td>\n",
       "      <td>3,05,199</td>\n",
       "    </tr>\n",
       "    <tr>\n",
       "      <th>2</th>\n",
       "      <td>Maruti</td>\n",
       "      <td>Alto 800</td>\n",
       "      <td>LXI</td>\n",
       "      <td>2018</td>\n",
       "      <td>29,031 km</td>\n",
       "      <td>Petrol</td>\n",
       "      <td>New Delhi</td>\n",
       "      <td>2,95,599</td>\n",
       "    </tr>\n",
       "    <tr>\n",
       "      <th>3</th>\n",
       "      <td>Maruti</td>\n",
       "      <td>Swift</td>\n",
       "      <td>VDI ABS</td>\n",
       "      <td>2015</td>\n",
       "      <td>89,196 km</td>\n",
       "      <td>Diesel</td>\n",
       "      <td>New Delhi</td>\n",
       "      <td>4,29,099</td>\n",
       "    </tr>\n",
       "    <tr>\n",
       "      <th>4</th>\n",
       "      <td>Maruti</td>\n",
       "      <td>Ritz</td>\n",
       "      <td>VDI</td>\n",
       "      <td>2014</td>\n",
       "      <td>43,382 km</td>\n",
       "      <td>Diesel</td>\n",
       "      <td>New Delhi</td>\n",
       "      <td>3,44,199</td>\n",
       "    </tr>\n",
       "    <tr>\n",
       "      <th>...</th>\n",
       "      <td>...</td>\n",
       "      <td>...</td>\n",
       "      <td>...</td>\n",
       "      <td>...</td>\n",
       "      <td>...</td>\n",
       "      <td>...</td>\n",
       "      <td>...</td>\n",
       "      <td>...</td>\n",
       "    </tr>\n",
       "    <tr>\n",
       "      <th>5570</th>\n",
       "      <td>Maruti</td>\n",
       "      <td>Swift Dzire</td>\n",
       "      <td>ZXi</td>\n",
       "      <td>2009</td>\n",
       "      <td>72,000 kms</td>\n",
       "      <td>Petrol</td>\n",
       "      <td>Pune</td>\n",
       "      <td>2,90,000</td>\n",
       "    </tr>\n",
       "    <tr>\n",
       "      <th>5571</th>\n",
       "      <td>Honda</td>\n",
       "      <td>City</td>\n",
       "      <td>CVT</td>\n",
       "      <td>2008</td>\n",
       "      <td>68,000 kms</td>\n",
       "      <td>Petrol</td>\n",
       "      <td>Pune</td>\n",
       "      <td>2,75,000</td>\n",
       "    </tr>\n",
       "    <tr>\n",
       "      <th>5572</th>\n",
       "      <td>Maruti</td>\n",
       "      <td>Alto K10</td>\n",
       "      <td>VXI</td>\n",
       "      <td>2014</td>\n",
       "      <td>1,28,000 kms</td>\n",
       "      <td>Petrol</td>\n",
       "      <td>Pune</td>\n",
       "      <td>2,85,000</td>\n",
       "    </tr>\n",
       "    <tr>\n",
       "      <th>5573</th>\n",
       "      <td>Mahindra</td>\n",
       "      <td>Xylo</td>\n",
       "      <td>E4</td>\n",
       "      <td>2010</td>\n",
       "      <td>80,000 kms</td>\n",
       "      <td>Diesel</td>\n",
       "      <td>Pune</td>\n",
       "      <td>3,00,000</td>\n",
       "    </tr>\n",
       "    <tr>\n",
       "      <th>5574</th>\n",
       "      <td>Datsun</td>\n",
       "      <td>RediGO</td>\n",
       "      <td>S</td>\n",
       "      <td>2017</td>\n",
       "      <td>50,000 kms</td>\n",
       "      <td>Petrol</td>\n",
       "      <td>Pune</td>\n",
       "      <td>2,00,000</td>\n",
       "    </tr>\n",
       "  </tbody>\n",
       "</table>\n",
       "<p>5575 rows × 8 columns</p>\n",
       "</div>"
      ],
      "text/plain": [
       "         Brand        Model      Variant Manufacturing Year Driven Kilometers  \\\n",
       "0       Maruti  Swift Dzire  VDI BS IV                 2013         74,644 km   \n",
       "1       Maruti     Alto K10        LXI                 2016         32,669 km   \n",
       "2       Maruti     Alto 800        LXI                 2018         29,031 km   \n",
       "3       Maruti        Swift    VDI ABS                 2015         89,196 km   \n",
       "4       Maruti         Ritz        VDI                 2014         43,382 km   \n",
       "...        ...          ...          ...                ...               ...   \n",
       "5570    Maruti  Swift Dzire          ZXi               2009        72,000 kms   \n",
       "5571     Honda         City          CVT               2008        68,000 kms   \n",
       "5572    Maruti     Alto K10          VXI               2014      1,28,000 kms   \n",
       "5573  Mahindra         Xylo           E4               2010        80,000 kms   \n",
       "5574    Datsun       RediGO            S               2017        50,000 kms   \n",
       "\n",
       "        Fuel   Location     Price  \n",
       "0     Diesel  New Delhi  4,01,999  \n",
       "1     Petrol  New Delhi  3,05,199  \n",
       "2     Petrol  New Delhi  2,95,599  \n",
       "3     Diesel  New Delhi  4,29,099  \n",
       "4     Diesel  New Delhi  3,44,199  \n",
       "...      ...        ...       ...  \n",
       "5570  Petrol       Pune  2,90,000  \n",
       "5571  Petrol       Pune  2,75,000  \n",
       "5572  Petrol       Pune  2,85,000  \n",
       "5573  Diesel       Pune  3,00,000  \n",
       "5574  Petrol       Pune  2,00,000  \n",
       "\n",
       "[5575 rows x 8 columns]"
      ]
     },
     "execution_count": 333,
     "metadata": {},
     "output_type": "execute_result"
    }
   ],
   "source": [
    "#Making New Dataframe\n",
    "df=pd.DataFrame({'Brand':Brand,'Model':Model,'Variant':Variant,'Manufacturing Year':Year,\n",
    "                 'Driven Kilometers':Driven,'Fuel':Fuel,'Location':Location,'Price':Price})\n",
    "cars=df\n",
    "cars"
   ]
  },
  {
   "cell_type": "code",
   "execution_count": 334,
   "id": "8807d366",
   "metadata": {},
   "outputs": [],
   "source": [
    "df.to_csv('Used Car Dataset.csv')"
   ]
  },
  {
   "cell_type": "code",
   "execution_count": null,
   "id": "e3e06986",
   "metadata": {},
   "outputs": [],
   "source": []
  }
 ],
 "metadata": {
  "kernelspec": {
   "display_name": "Python 3",
   "language": "python",
   "name": "python3"
  },
  "language_info": {
   "codemirror_mode": {
    "name": "ipython",
    "version": 3
   },
   "file_extension": ".py",
   "mimetype": "text/x-python",
   "name": "python",
   "nbconvert_exporter": "python",
   "pygments_lexer": "ipython3",
   "version": "3.8.8"
  }
 },
 "nbformat": 4,
 "nbformat_minor": 5
}
